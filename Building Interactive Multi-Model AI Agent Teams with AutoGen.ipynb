{
 "cells": [
  {
   "cell_type": "code",
   "execution_count": null,
   "metadata": {},
   "outputs": [],
   "source": [
    "\n",
    "!pip install -q pyautogen openai python-dotenv gradio google-generativeai \"ag2[gemini]\""
   ]
  },
  {
   "cell_type": "code",
   "execution_count": null,
   "metadata": {},
   "outputs": [],
   "source": [
    "\n",
    "import warnings\n",
    "warnings.filterwarnings(\"ignore\")\n",
    "\n",
    "import os\n",
    "import autogen\n",
    "import gradio as gr\n",
    "from openai import OpenAI  \n",
    "from dotenv import load_dotenv\n",
    "from IPython.display import display, Markdown\n",
    "import random  \n",
    "import google.generativeai as genai  # Import the Google library\n",
    "\n",
    "load_dotenv()\n",
    "\n",
    "openai_api_key = os.getenv(\"OPENAI_API_KEY\")\n",
    "google_api_key = os.getenv(\"GOOGLE_API_KEY\")  # Load the Google API key\n",
    "\n",
    "print(\"Setup Complete: Libraries installed and API keys loaded.\")"
   ]
  },
  {
   "cell_type": "code",
   "execution_count": null,
   "metadata": {},
   "outputs": [],
   "source": [
    "\n",
    "def print_markdown(text):\n",
    "    display(Markdown(text))"
   ]
  },
  {
   "cell_type": "code",
   "execution_count": null,
   "metadata": {},
   "outputs": [],
   "source": [
    "\n",
    "config_list_openai = [\n",
    "    {\n",
    "        \"model\": \"gpt-4o-mini\",\n",
    "        \"api_key\": openai_api_key,\n",
    "    }\n",
    "]\n",
    "\n",
    "llm_config_openai = {\n",
    "    \"config_list\": config_list_openai,\n",
    "    \"temperature\": 0.7,  \n",
    "    \"timeout\": 120,\n",
    "}"
   ]
  },
  {
   "cell_type": "code",
   "execution_count": null,
   "metadata": {},
   "outputs": [],
   "source": [
    "cmo_prompt = \"\"\"You are the Chief Marketing Officer (CMO) of a new shoe brand (sustainable).\n",
    "Provide high-level strategy, define target audiences, and guide the Marketer. Focus on the big picture. Be concise.\"\"\""
   ]
  },
  {
   "cell_type": "code",
   "execution_count": null,
   "metadata": {},
   "outputs": [],
   "source": [
    "brand_marketer_prompt = \"\"\"You are the Brand Marketer for the shoe brand. Brainstorm creative, specific campaign ideas (digital, content, experiences).\n",
    "Focus on tactics and details. Suggest KPIs for your ideas.\"\"\""
   ]
  },
  {
   "cell_type": "code",
   "execution_count": null,
   "metadata": {},
   "outputs": [],
   "source": [
    "\n",
    "cmo_agent_openai = autogen.ConversableAgent(\n",
    "    name = \"Chief_Marketing_Officer_OpenAI\",\n",
    "    system_message = cmo_prompt,\n",
    "    llm_config = llm_config_openai,  \n",
    "    human_input_mode = \"NEVER\")\n",
    "\n",
    "print(f\"Agent '{cmo_agent_openai.name}' created (using OpenAI).\")"
   ]
  },
  {
   "cell_type": "code",
   "execution_count": null,
   "metadata": {},
   "outputs": [],
   "source": [
    "\n",
    "brand_marketer_agent_openai = autogen.ConversableAgent(\n",
    "    name = \"Brand_Marketer_OpenAI\",\n",
    "    system_message = brand_marketer_prompt,\n",
    "    llm_config = llm_config_openai,  # Assign the same OpenAI config\n",
    "    human_input_mode = \"NEVER\")\n",
    "\n",
    "print(f\"Agent '{brand_marketer_agent_openai.name}' created (using OpenAI).\")"
   ]
  },
  {
   "cell_type": "code",
   "execution_count": null,
   "metadata": {},
   "outputs": [],
   "source": [
    "initial_task_message = \"\"\"\n",
    "Context: We're launching a new sustainable shoe line and need campaign ideas\n",
    "Instruction: Brainstorm a campaign concept with specific elements\n",
    "Input: Our sustainable, futuristic shoe brand needs marketing direction\n",
    "Output: A concise campaign concept with the following structure:\n",
    "Brand Marketer, let's brainstorm initial campaign ideas for our new sustainable shoe line.\n",
    "Give me a distinct campaign concept. Outline: core idea, target audience, primary channels, and 1-2 KPIs. Keep it concise. Try to arrive at a final answer in 2-3 turns.\n",
    "\"\"\"\n",
    "\n",
    "print(\"--- Starting Agent Conversation (OpenAI Only) ---\")\n",
    "print(\"Chief Marketing Officer (OpenAI) initiating chat with Brand Marketer (OpenAI). Max Turns = 4\")\n",
    "print(\"--------------------------------------------------\")\n",
    "\n",
    "\n",
    "chat_result_openai_only = cmo_agent_openai.initiate_chat(\n",
    "    recipient = brand_marketer_agent_openai, message = initial_task_message, max_turns = 4\n",
    ")\n",
    "\n",
    "print(\"--------------------------------------------------\")\n",
    "print(\"--- Conversation Ended (OpenAI Only) ---\")"
   ]
  },
  {
   "cell_type": "code",
   "execution_count": null,
   "metadata": {},
   "outputs": [],
   "source": [
    "def print_chat_history(chat_result):\n",
    "    \"\"\"Any chat result object has a chat_history attribute that contains the conversation history.\n",
    "    This function prints the conversation history in a readable format.\n",
    "    \"\"\"\n",
    "    for i in chat_result.chat_history:  \n",
    "        print_markdown(i['name'])\n",
    "        print(\"_\"*100)\n",
    "        print_markdown(i['content'])\n",
    "        print(\"_\"*100)\n"
   ]
  },
  {
   "cell_type": "code",
   "execution_count": null,
   "metadata": {},
   "outputs": [],
   "source": [
    "\n",
    "print_chat_history(chat_result_openai_only)"
   ]
  },
  {
   "cell_type": "code",
   "execution_count": null,
   "metadata": {},
   "outputs": [],
   "source": [
    "\n",
    "config_list_gemini = [\n",
    "    {\n",
    "        \"model\": \"gemini-2.0-flash\", \n",
    "        \"api_key\": google_api_key,\n",
    "        \"api_type\": \"google\", \n",
    "    }\n",
    "]\n",
    "\n",
    "llm_config_gemini = {\n",
    "    \"config_list\": config_list_gemini,\n",
    "    \"temperature\": 0.6,  \n",
    "    \"timeout\": 120,\n",
    "}"
   ]
  },
  {
   "cell_type": "code",
   "execution_count": null,
   "metadata": {},
   "outputs": [],
   "source": [
    "\n",
    "cmo_agent_gemini = autogen.ConversableAgent(\n",
    "    name = \"Chief_Marketing_Officer_Gemini\",\n",
    "    system_message = cmo_prompt,\n",
    "    llm_config = llm_config_gemini,  \n",
    "    human_input_mode = \"NEVER\")\n",
    "\n",
    "brand_marketer_agent_openai_mixed = autogen.ConversableAgent(\n",
    "    name = \"Brand_Marketer_OpenAI\",  # Keep name consistent if desired, or update\n",
    "    system_message = brand_marketer_prompt,\n",
    "    llm_config = llm_config_openai,  # Assign the OpenAI config!\n",
    "    human_input_mode = \"NEVER\")\n",
    "\n",
    "print(f\"Agent '{cmo_agent_gemini.name}' created (using Google Gemini).\")\n",
    "print(f\"Agent '{brand_marketer_agent_openai_mixed.name}' created (using OpenAI).\")"
   ]
  },
  {
   "cell_type": "markdown",
   "metadata": {},
   "source": [
    "Let's initiate the same chat as before, but now using our **mixed-model team**: the Gemini-powered Chief Marketing Officer and the OpenAI's GPT-powered Brand Marketer.\n",
    "\n",
    "Observe the conversation flow. Do you notice any subtle differences in style or focus compared to the OpenAI-only chat, potentially due to the different underlying models?\n"
   ]
  },
  {
   "cell_type": "code",
   "execution_count": null,
   "metadata": {},
   "outputs": [],
   "source": [
    "\n",
    "\n",
    "print(\"--- Starting Agent Conversation (Multi-Model: Gemini + OpenAI) ---\")\n",
    "print(\"Chief Marketing Officer (Gemini) initiating chat with Brand Marketer (OpenAI). Max Turns = 4\")\n",
    "print(\"------------------------------------------------------------------\")\n",
    "\n",
    "chat_result_multi_model = cmo_agent_gemini.initiate_chat(\n",
    "    recipient = brand_marketer_agent_openai_mixed,  # Target the OpenAI marketer\n",
    "    message = initial_task_message,\n",
    "    max_turns = 4)\n",
    "\n",
    "print(\"------------------------------------------------------------------\")\n",
    "print(\"--- Conversation Ended (Multi-Model) ---\")\n"
   ]
  },
  {
   "cell_type": "code",
   "execution_count": null,
   "metadata": {
    "scrolled": true
   },
   "outputs": [],
   "source": [
    "print_chat_history(chat_result_multi_model)"
   ]
  },
  {
   "cell_type": "code",
   "execution_count": null,
   "metadata": {},
   "outputs": [],
   "source": [
    "# Create the User Proxy Agent (Represents You)\n",
    "user_proxy_agent = autogen.UserProxyAgent(\n",
    "    name = \"Human_User_Proxy\",\n",
    "    human_input_mode = \"ALWAYS\",  # Prompt user for input until 'exit'\n",
    "    max_consecutive_auto_reply = 1,\n",
    "    is_termination_msg = lambda x: x.get(\"content\", \"\").rstrip().lower() in [\"exit\", \"quit\", \"terminate\"],\n",
    "    code_execution_config = False,\n",
    "    system_message = \"You are the human user interacting with a multi-model AI team (Gemini CMO, OpenAI Marketer). Guide the brainstorm. Type 'exit' to end.\",\n",
    ")\n",
    "\n",
    "print(f\"Agent '{user_proxy_agent.name}' created for HIL with multi-model team.\")\n",
    "\n",
    "print(\"--- Starting Human-in-the-Loop (HIL) Conversation (Multi-Model) ---\")\n",
    "print(\"You will interact with Gemini CMO and OpenAI Marketer. Type 'exit' to end.\")\n",
    "print(\"---------------------------------------------------------------------\")"
   ]
  },
  {
   "cell_type": "code",
   "execution_count": null,
   "metadata": {},
   "outputs": [],
   "source": [
    "\n",
    "cmo_agent_gemini.reset()  # Reset Gemini CMO\n",
    "brand_marketer_agent_openai_mixed.reset()  # Reset OpenAI Marketer\n",
    "user_proxy_agent.reset()"
   ]
  },
  {
   "cell_type": "code",
   "execution_count": null,
   "metadata": {},
   "outputs": [],
   "source": [
    "from autogen import GroupChat, GroupChatManager\n",
    "\n",
    "groupchat = GroupChat(\n",
    "    agents = [user_proxy_agent, cmo_agent_gemini, brand_marketer_agent_openai],  # List of agents participating in the group chat\n",
    "    messages = [ ],  # Initialize with empty message history\n",
    "    max_round = 20,  # Optional: Limits how many conversation rounds can occur before terminating\n",
    ")\n",
    "\n",
    "group_manager = GroupChatManager(groupchat = groupchat, llm_config = llm_config_openai)  # Uses OpenAI's LLM to manage the conversation"
   ]
  },
  {
   "cell_type": "code",
   "execution_count": null,
   "metadata": {},
   "outputs": [],
   "source": [
    "\n",
    "group_chat_result = group_manager.initiate_chat(\n",
    "    recipient = user_proxy_agent,  # Start by talking to the Gemini CMO\n",
    "    message = \"\"\"Hello team!!\"\"\",\n",
    ")\n",
    "\n",
    "print(\"---------------------------------------------------------------------\")\n",
    "print(\"--- Conversation Ended (Human terminated or Max Turns) ---\")"
   ]
  },
  {
   "cell_type": "code",
   "execution_count": null,
   "metadata": {},
   "outputs": [],
   "source": [
    "print_chat_history(group_chat_result)"
   ]
  },
  {
   "cell_type": "code",
   "execution_count": null,
   "metadata": {},
   "outputs": [],
   "source": [
    "social_media_prompt = \"\"\"You are the Social Media Strategist for a new sustainable shoe brand. \n",
    "            Develop creative social media posts, suggest platforms, posting times, and engagement strategies. \n",
    "            Work with the Brand Marketer and CMO.\"\"\""
   ]
  },
  {
   "cell_type": "code",
   "execution_count": null,
   "metadata": {},
   "outputs": [],
   "source": [
    "# Let's create our social media strategist Agent - Using OpenAI for now\n",
    "social_media_agent_openai = autogen.ConversableAgent(\n",
    "    name = \"Social_Media_OpenAI\",\n",
    "    system_message = social_media_prompt,\n",
    "    llm_config = llm_config_openai,  # Assign the OpenAI config\n",
    "    human_input_mode = \"NEVER\")\n",
    "\n",
    "print(f\"Agent '{social_media_agent_openai.name}' created (using OpenAI).\")"
   ]
  },
  {
   "cell_type": "code",
   "execution_count": null,
   "metadata": {},
   "outputs": [],
   "source": [
    "chat_result_openai_only = cmo_agent_openai.initiate_chat(\n",
    "    recipient = brand_marketer_agent_openai, message = initial_task_message, max_turns = 6)\n"
   ]
  },
  {
   "cell_type": "code",
   "execution_count": null,
   "metadata": {},
   "outputs": [],
   "source": [
    "# Configuration for Claude Agent\n",
    "config_list_claude = [\n",
    "    {\n",
    "        \"model\": \"claude-3-5-sonnet-20240620\",\n",
    "        \"api_key\": os.getenv(\"ANTHROPIC_API_KEY\"),\n",
    "        \"api_type\": \"anthropic\",\n",
    "    }\n",
    "]\n",
    "\n",
    "llm_config_claude = {\n",
    "    \"config_list\": config_list_claude,\n",
    "    \"temperature\": 0.6,  # Use a slightly higher temp for creative marketing ideas\n",
    "    \"timeout\": 120,\n",
    "}"
   ]
  },
  {
   "cell_type": "code",
   "execution_count": null,
   "metadata": {},
   "outputs": [],
   "source": [
    "social_media_prompt = \"\"\"You are the Social Media Strategist for a new sustainable shoe brand. \n",
    "            Develop creative social media posts, suggest platforms, posting times, and engagement strategies. \n",
    "            Work with the Brand Marketer and CMO.\"\"\""
   ]
  },
  {
   "cell_type": "code",
   "execution_count": null,
   "metadata": {},
   "outputs": [],
   "source": [
    "# Let's create our social media strategist Agent using Claude\n",
    "social_media_agent_claude = autogen.ConversableAgent(\n",
    "    name = \"Social_Media_Claude\",\n",
    "    system_message = social_media_prompt,\n",
    "    llm_config = llm_config_claude,  # Assign the Claude config\n",
    "    human_input_mode = \"NEVER\")\n",
    "\n",
    "print(f\"Agent '{social_media_agent_claude.name}' created (using Claude).\")"
   ]
  },
  {
   "cell_type": "code",
   "execution_count": null,
   "metadata": {},
   "outputs": [],
   "source": [
    "initial_task_message = \"\"\"\n",
    "Context: We're launching a new sustainable shoe line and need campaign ideas\n",
    "Instruction: Brainstorm a campaign concept with specific elements\n",
    "Input: Our sustainable, futuristic shoe brand needs marketing direction\n",
    "Output: A concise campaign concept with the following structure:\n",
    "Brand Marketer, let's brainstorm initial campaign ideas for our new sustainable shoe line.\n",
    "Give me a distinct campaign concept. Outline: core idea, target audience, primary channels, and 1-2 KPIs. Keep it concise. Try to arrive at a final answer in 2-3 turns.\n",
    "\"\"\""
   ]
  },
  {
   "cell_type": "code",
   "execution_count": null,
   "metadata": {},
   "outputs": [],
   "source": [
    "\n",
    "config_list_gemini = [\n",
    "    {\n",
    "        \"model\": \"gemini-2.0-flash\",  # Or \"gemini-pro\"\n",
    "        \"api_key\": google_api_key,\n",
    "        \"api_type\": \"google\",  # Specify the API type for Autogen's Google integration\n",
    "    }\n",
    "]\n",
    "\n",
    "llm_config_gemini = {\n",
    "    \"config_list\": config_list_gemini,\n",
    "    \"temperature\": 1.6,  # Maybe slightly less randomness for strategic Chief Marketing Officer\n",
    "    \"timeout\": 15,\n",
    "}"
   ]
  },
  {
   "cell_type": "code",
   "execution_count": null,
   "metadata": {},
   "outputs": [],
   "source": [
    "\n",
    "cmo_agent_gemini = autogen.ConversableAgent(\n",
    "    name = \"Chief_Marketing_Officer_Gemini\",\n",
    "    system_message = cmo_prompt,\n",
    "    llm_config = llm_config_gemini,  # Assign the Gemini config!\n",
    "    human_input_mode = \"NEVER\")\n"
   ]
  },
  {
   "cell_type": "code",
   "execution_count": null,
   "metadata": {},
   "outputs": [],
   "source": [
    "\n",
    "config_list_openai = [\n",
    "    {\n",
    "        \"model\": \"gpt-4o-mini\",\n",
    "        \"api_key\": openai_api_key,\n",
    "    }\n",
    "]\n",
    "\n",
    "llm_config_openai = {\n",
    "    \"config_list\": config_list_openai,\n",
    "    \"temperature\": 1.6,  # Use a slightly higher temp for creative marketing ideas\n",
    "    \"timeout\": 120,\n",
    "}"
   ]
  },
  {
   "cell_type": "code",
   "execution_count": null,
   "metadata": {},
   "outputs": [],
   "source": [
    "\n",
    "brand_marketer_agent_openai_mixed = autogen.ConversableAgent(\n",
    "    name = \"Brand_Marketer_OpenAI\",  # Keep name consistent if desired, or update\n",
    "    system_message = brand_marketer_prompt,\n",
    "    llm_config = llm_config_openai,  # Assign the OpenAI config!\n",
    "    human_input_mode = \"NEVER\")\n"
   ]
  },
  {
   "cell_type": "code",
   "execution_count": null,
   "metadata": {},
   "outputs": [],
   "source": [
    "print(\"--- Starting Agent Conversation (Multi-Model: Gemini + OpenAI) ---\")\n",
    "print(\"Chief Marketing Officer (Gemini) initiating chat with Brand Marketer (OpenAI). Max Turns = 4\")\n",
    "print(\"------------------------------------------------------------------\")\n",
    "\n",
    "chat_result_multi_model = cmo_agent_gemini.initiate_chat(\n",
    "    recipient = brand_marketer_agent_openai_mixed,  # Target the OpenAI marketer\n",
    "    message = initial_task_message,\n",
    "    max_turns = 6)\n",
    "\n",
    "print(\"------------------------------------------------------------------\")\n",
    "print(\"--- Conversation Ended (Multi-Model) ---\")\n"
   ]
  },
  {
   "cell_type": "code",
   "execution_count": null,
   "metadata": {},
   "outputs": [],
   "source": [
    "\n",
    "groupchat = GroupChat(\n",
    "       agents = [user_proxy_agent, cmo_agent_gemini, brand_marketer_agent_openai, social_media_agent_claude],\n",
    "       messages = [],\n",
    "       max_round= 10)\n",
    "\n",
    "group_manager = GroupChatManager(groupchat = groupchat, llm_config = llm_config_openai)  # Uses OpenAI's LLM to manage the conversation"
   ]
  },
  {
   "cell_type": "code",
   "execution_count": null,
   "metadata": {},
   "outputs": [],
   "source": [
    "group_chat_result = group_manager.initiate_chat(\n",
    "       recipient = user_proxy_agent,\n",
    "       message = \"\"\"Let's develop a TikTok campaign for our shoes targeting Gen Z.\n",
    "       CMO (Gemini): Please outline the strategic goals.\n",
    "       Brand Marketer (OpenAI): Suggest a campaign hook.\n",
    "       Social Media Strategist (Claude): Provide a social Media plan\"\"\",\n",
    "       max_turns = 10)"
   ]
  }
 ],
 "metadata": {
  "kernelspec": {
   "display_name": "Python 3 (ipykernel)",
   "language": "python",
   "name": "python3"
  },
  "language_info": {
   "codemirror_mode": {
    "name": "ipython",
    "version": 3
   },
   "file_extension": ".py",
   "mimetype": "text/x-python",
   "name": "python",
   "nbconvert_exporter": "python",
   "pygments_lexer": "ipython3",
   "version": "3.12.7"
  }
 },
 "nbformat": 4,
 "nbformat_minor": 4
}
